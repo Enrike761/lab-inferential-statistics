{
 "cells": [
  {
   "cell_type": "code",
   "execution_count": null,
   "id": "8130d28c-f74f-4266-9843-b9993357d789",
   "metadata": {},
   "outputs": [],
   "source": [
    "#en este caso, al no contar con la desviación estándar de la población, no podemos hacer un z test. Al tener la desviación estándar de la muestra haremos un ttest.\n",
    "#hemos obtenido el valor correcto calculandolo a mano, ahora lo haremos con código\n"
   ]
  },
  {
   "cell_type": "code",
   "execution_count": null,
   "id": "6745d73e-a2a3-4a7d-b2da-9ae7062eff05",
   "metadata": {},
   "outputs": [],
   "source": [
    "#t= 120.1-110/21.21/10(raíz de 100)=4.7619"
   ]
  },
  {
   "cell_type": "code",
   "execution_count": null,
   "id": "0fac4a98-b47f-4e99-b4a6-aef844624da3",
   "metadata": {},
   "outputs": [],
   "source": [
    "#necesitamos el grado de libertad para consultar la tabla(100-1)=99"
   ]
  },
  {
   "cell_type": "code",
   "execution_count": null,
   "id": "acd5b615-dc78-4401-86c1-8977723c4ea0",
   "metadata": {
    "scrolled": true
   },
   "outputs": [],
   "source": [
    "#1.66 es el valor que encontramos en la tabla para este análisis, al ser el valor del test (4.76) mayor que el valor crítico o límite en la que ambas variables se relacionan o se dejan de relacionar para una significancia de una 5%, no podemos aceptar la hipótesis nula base que dice que ambas variables son iguales, en este caso el resultado nos indica que son diferentes aunque no mucho"
   ]
  }
 ],
 "metadata": {
  "kernelspec": {
   "display_name": "Python 3 (ipykernel)",
   "language": "python",
   "name": "python3"
  },
  "language_info": {
   "codemirror_mode": {
    "name": "ipython",
    "version": 3
   },
   "file_extension": ".py",
   "mimetype": "text/x-python",
   "name": "python",
   "nbconvert_exporter": "python",
   "pygments_lexer": "ipython3",
   "version": "3.12.4"
  }
 },
 "nbformat": 4,
 "nbformat_minor": 5
}
